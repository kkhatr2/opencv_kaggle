{
 "cells": [
  {
   "cell_type": "code",
   "execution_count": 1,
   "id": "050c5326-c045-4ff3-b7fd-d9eee1a44665",
   "metadata": {},
   "outputs": [],
   "source": [
    "import os\n",
    "import csv\n",
    "\n",
    "import torch\n",
    "\n",
    "import torchvision\n",
    "\n",
    "import pytorch_lightning as pl"
   ]
  },
  {
   "cell_type": "code",
   "execution_count": 2,
   "id": "5ab0e0d0-424c-4be9-9bfe-ee330038ddb2",
   "metadata": {},
   "outputs": [],
   "source": [
    "class PLDataModule(pl.LightningDataModule):\n",
    "    def __init__(self, data_root):\n",
    "        self.root = data_root\n",
    "        self.metadata = self.get_metadata()\n",
    "        \n",
    "    def get_metadata(self):\n",
    "        metadata = dict()\n",
    "        # opening the CSV file\n",
    "        with open(os.path.join(self.root, 'monkey_labels.txt'), mode ='r') as file:\n",
    "            csvFile = csv.reader(file)            \n",
    "            headers = [r.strip() for r in  next(csvFile)]\n",
    "            \n",
    "            for h in headers:\n",
    "                metadata[h] = []\n",
    "                \n",
    "            for lines in csvFile:\n",
    "                for i in range(len(lines)):\n",
    "                    metadata[headers[i]].append(lines[i].strip())\n",
    "        return metadata\n",
    "            \n",
    "            # displaying the contents of the CSV file\n",
    "            #return csvFile\n",
    "            #for lines in csvFile:\n",
    "            #    names_dict\n",
    "            #    return lines\n",
    "\n",
    "    \n",
    "    def prepare_data(self):\n",
    "        # There is nothing to prepare.\n",
    "        # The data should have already been downloaded and\n",
    "        # extracted in the root that is passed to initiaize this class\n",
    "        pass\n",
    "    \n",
    "    def setup(self, stage=None):\n",
    "        pass"
   ]
  },
  {
   "cell_type": "code",
   "execution_count": 3,
   "id": "2b530db9-13b4-4ad9-a158-df4ee8a7050f",
   "metadata": {},
   "outputs": [],
   "source": [
    "d = PLDataModule(\"./../monkeys/\")"
   ]
  }
 ],
 "metadata": {
  "kernelspec": {
   "display_name": "Python [conda env:torch] *",
   "language": "python",
   "name": "conda-env-torch-py"
  },
  "language_info": {
   "codemirror_mode": {
    "name": "ipython",
    "version": 3
   },
   "file_extension": ".py",
   "mimetype": "text/x-python",
   "name": "python",
   "nbconvert_exporter": "python",
   "pygments_lexer": "ipython3",
   "version": "3.9.13"
  }
 },
 "nbformat": 4,
 "nbformat_minor": 5
}
