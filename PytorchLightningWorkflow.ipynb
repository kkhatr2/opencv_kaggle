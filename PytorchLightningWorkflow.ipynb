{
 "cells": [
  {
   "cell_type": "code",
   "execution_count": 1,
   "id": "050c5326-c045-4ff3-b7fd-d9eee1a44665",
   "metadata": {},
   "outputs": [],
   "source": [
    "import os\n",
    "import csv\n",
    "\n",
    "from PIL import Image as im\n",
    "\n",
    "import torch\n",
    "from torch import nn\n",
    "import torch.nn.functional as F\n",
    "from torch.utils.data import DataLoader, random_split\n",
    "\n",
    "import torchvision\n",
    "from torchvision import transforms\n",
    "\n",
    "import pytorch_lightning as pl\n",
    "from tqdm import tqdm"
   ]
  },
  {
   "cell_type": "code",
   "execution_count": 2,
   "id": "5ab0e0d0-424c-4be9-9bfe-ee330038ddb2",
   "metadata": {},
   "outputs": [],
   "source": [
    "class PLDataModule(pl.LightningDataModule):\n",
    "    def __init__(self, data_root, img_size, batch_size=32, train_split=0.8):\n",
    "        self.root = data_root\n",
    "        self.metadata = self.get_metadata()\n",
    "        self.img_size = img_size\n",
    "        self.batch_size = batch_size\n",
    "        self.train_split = train_split\n",
    "        self.train_mean = [0.0, 0., 0.0]\n",
    "        self.train_std = [1.0, 1.0, 1.0]\n",
    "        self.common_transforms = transforms.Compose([\n",
    "            transforms.Resize((img_size + 20, img_size + 20), \n",
    "                              transforms.InterpolationMode.BICUBIC),\n",
    "            transforms.CenterCrop(img_size),\n",
    "            transforms.ToTensor(),\n",
    "            \n",
    "        ])\n",
    "        \n",
    "    \n",
    "    def prepare_data_per_node(self):\n",
    "        # There is nothing to prepare.\n",
    "        # The data should have already been downloaded and\n",
    "        # extracted in the data_root that is passed to initiaize this class\n",
    "        print(os.path.abspath(self.root))\n",
    "        \n",
    "    \n",
    "    def setup(self, stage='fit'):\n",
    "        data_dict = self.get_img_path_labels(stage)\n",
    "        imgs_ct = len(data_dict['image_path'])\n",
    "        imgs_tensor = torch.empty([imgs_ct, 3, self.img_size, self.img_size])\n",
    "        labels_tensor = torch.empty(imgs_ct, dtype=int)\n",
    "       \n",
    "        for i in range(imgs_ct):\n",
    "            img = im.open(data_dict['image_path'][i]).convert(\"RGB\")\n",
    "            img = self.common_transforms(img)\n",
    "            imgs_tensor[i] = img\n",
    "            labels_tensor[i] = data_dict['label'][i]\n",
    "        \n",
    "        if stage == 'fit':\n",
    "            self.mean, self.std = self.compute_mean_std(imgs_tensor)\n",
    "            imgs_tensor = transforms.functional.normalize(imgs_tensor, self.mean, self.std)\n",
    "            final_dataset = tuple(map(lambda x, y: (x, y,), imgs_tensor, labels_tensor))\n",
    "            train_split = torch.ceil(torch.tensor(imgs_ct * self.train_split)).to(int).item()\n",
    "            self.train_set, self.val_set = random_split(final_dataset, [train_split, imgs_ct-train_split])\n",
    "        else:\n",
    "            imgs_tensor = transforms.functional.normalize(imgs_tensor, self.mean, self.std)\n",
    "            self.test_set = tuple(map(lambda x, y: (x, y), imgs_tensor, labels_tensor))\n",
    "            \n",
    "    \n",
    "    def train_dataloader(self):\n",
    "        return DataLoader(self.train_set, batch_size=self.batch_size, shuffle=True, num_workers=4)\n",
    "    \n",
    "    def val_dataloader(self):\n",
    "        return DataLoader(self.val_set, batch_size=self.batch_size, shuffle=False, num_workers=4)\n",
    "    \n",
    "    def test_dataloader(self):\n",
    "        return DataLoader(self.test_set, batch_size=self.batch_size, shuffle=False)\n",
    "    \n",
    "    #############################\n",
    "    ## Miscellaneous functions ##\n",
    "    #############################\n",
    "    def compute_mean_std(self, image_tensor):\n",
    "        axes = (0,2,3)\n",
    "        return image_tensor.mean(axis=axes), image_tensor.std(axis=axes)\n",
    "        \n",
    "    def get_img_path_labels(self, stage='fit'):\n",
    "        data_dict = {'image_path':[], 'label':[]}\n",
    "        if stage == 'fit':\n",
    "            dir_ = os.path.join(self.root, 'training', 'training')\n",
    "        else:\n",
    "            dir_ = os.path.join(self.root, 'validation', 'validation')\n",
    "            \n",
    "        for cl in self.metadata['Label']:\n",
    "            class_path = os.path.join(dir_, cl)\n",
    "            for img in os.listdir(class_path):\n",
    "                if img.endswith(\".jpg\") or img.endswith(\".png\"):\n",
    "                    fname = os.path.join(class_path, img)\n",
    "                    data_dict['image_path'].append(fname)\n",
    "                    data_dict['label'].append(int(cl[1]))\n",
    "        \n",
    "        return data_dict\n",
    "\n",
    "    \n",
    "    def get_metadata(self):\n",
    "        metadata = dict()\n",
    "        with open(os.path.join(self.root, 'monkey_labels.txt'), mode ='r') as file:\n",
    "            csvFile = csv.reader(file)            \n",
    "            headers = [r.strip() for r in  next(csvFile)]\n",
    "            \n",
    "            for h in headers:\n",
    "                metadata[h] = []\n",
    "                \n",
    "            for lines in csvFile:\n",
    "                for i in range(len(lines)):\n",
    "                    metadata[headers[i]].append(lines[i].strip())\n",
    "        return metadata"
   ]
  },
  {
   "cell_type": "code",
   "execution_count": 3,
   "id": "50d50e7d-5a0b-41ff-8bf4-017450755d29",
   "metadata": {},
   "outputs": [],
   "source": [
    "class MonkeyType(pl.LightningModule):\n",
    "    def __init__(self, learning_rate=3e-4, num_classes=10):\n",
    "        super().__init__()\n",
    "        self.save_hyperparameters()\n",
    "        \n",
    "        self.avg_pool = nn.AdaptiveAvgPool2d((5,5))\n",
    "        \n",
    "        self.fc = nn.Sequential(\n",
    "            nn.Flatten(),\n",
    "            nn.Linear(3 * 5 * 5, 1024),\n",
    "            nn.ReLU(inplace=True),\n",
    "            nn.BatchNorm1d(1024),\n",
    "            #nn.Linear(1024, 1024),\n",
    "            #nn.ReLU(inplace=True),\n",
    "            #nn.BatchNorm1d(1024),\n",
    "            \n",
    "            nn.Linear(1024, self.hparams.num_classes)\n",
    "        )\n",
    "        \n",
    "    def forward(self, x):\n",
    "        x = self.avg_pool(x)\n",
    "        x = self.fc(x)\n",
    "        return x\n",
    "\n",
    "    def training_step(self, batch, batch_idx):\n",
    "        imgs, labels = batch\n",
    "        pred = self(imgs)\n",
    "        loss = F.cross_entropy(pred, labels)\n",
    "        return loss\n",
    "    \n",
    "    def validation_step(self, batch, batch_idx):\n",
    "        imgs, labels = batch\n",
    "        output = self(imgs)\n",
    "        loss = F.cross_entropy(output, labels)\n",
    "        return loss\n",
    "\n",
    "    def configure_optimizers(self):\n",
    "        return torch.optim.Adam(self.parameters(), lr=self.hparams.learning_rate)"
   ]
  },
  {
   "cell_type": "code",
   "execution_count": 4,
   "id": "d71486e9-3c3f-4f4b-9298-e5c40a9fde2a",
   "metadata": {},
   "outputs": [
    {
     "name": "stderr",
     "output_type": "stream",
     "text": [
      "Global seed set to 10\n"
     ]
    }
   ],
   "source": [
    "pl.seed_everything(10, workers=True)\n",
    "m = MonkeyType()\n",
    "d = PLDataModule('./../monkeys/', img_size=64, batch_size=20, train_split=0.80)"
   ]
  },
  {
   "cell_type": "code",
   "execution_count": 5,
   "id": "d806e9da-b8fd-4229-99a9-04339e3e972a",
   "metadata": {},
   "outputs": [
    {
     "name": "stderr",
     "output_type": "stream",
     "text": [
      "GPU available: False, used: False\n",
      "TPU available: False, using: 0 TPU cores\n",
      "IPU available: False, using: 0 IPUs\n",
      "HPU available: False, using: 0 HPUs\n"
     ]
    }
   ],
   "source": [
    "trainer = pl.Trainer(accelerator='cpu', devices=1,\n",
    "                     fast_dev_run=False,\n",
    "                     enable_progress_bar=True,\n",
    "                     enable_checkpointing=False,\n",
    "                     logger=False,\n",
    "                     max_epochs=10,\n",
    "                     deterministic=True,\n",
    "                     check_val_every_n_epoch=1)"
   ]
  },
  {
   "cell_type": "code",
   "execution_count": 6,
   "id": "256c3500-3bcb-4751-a231-7c0c372c98e6",
   "metadata": {},
   "outputs": [
    {
     "name": "stderr",
     "output_type": "stream",
     "text": [
      "\n",
      "  | Name     | Type              | Params\n",
      "-----------------------------------------------\n",
      "0 | avg_pool | AdaptiveAvgPool2d | 0     \n",
      "1 | fc       | Sequential        | 90.1 K\n",
      "-----------------------------------------------\n",
      "90.1 K    Trainable params\n",
      "0         Non-trainable params\n",
      "90.1 K    Total params\n",
      "0.360     Total estimated model params size (MB)\n"
     ]
    },
    {
     "data": {
      "application/vnd.jupyter.widget-view+json": {
       "model_id": "",
       "version_major": 2,
       "version_minor": 0
      },
      "text/plain": [
       "Sanity Checking: 0it [00:00, ?it/s]"
      ]
     },
     "metadata": {},
     "output_type": "display_data"
    },
    {
     "data": {
      "application/vnd.jupyter.widget-view+json": {
       "model_id": "f84694927bcd434fbadf582fbd4a2a16",
       "version_major": 2,
       "version_minor": 0
      },
      "text/plain": [
       "Training: 0it [00:00, ?it/s]"
      ]
     },
     "metadata": {},
     "output_type": "display_data"
    },
    {
     "data": {
      "application/vnd.jupyter.widget-view+json": {
       "model_id": "",
       "version_major": 2,
       "version_minor": 0
      },
      "text/plain": [
       "Validation: 0it [00:00, ?it/s]"
      ]
     },
     "metadata": {},
     "output_type": "display_data"
    },
    {
     "data": {
      "application/vnd.jupyter.widget-view+json": {
       "model_id": "",
       "version_major": 2,
       "version_minor": 0
      },
      "text/plain": [
       "Validation: 0it [00:00, ?it/s]"
      ]
     },
     "metadata": {},
     "output_type": "display_data"
    },
    {
     "data": {
      "application/vnd.jupyter.widget-view+json": {
       "model_id": "",
       "version_major": 2,
       "version_minor": 0
      },
      "text/plain": [
       "Validation: 0it [00:00, ?it/s]"
      ]
     },
     "metadata": {},
     "output_type": "display_data"
    },
    {
     "data": {
      "application/vnd.jupyter.widget-view+json": {
       "model_id": "",
       "version_major": 2,
       "version_minor": 0
      },
      "text/plain": [
       "Validation: 0it [00:00, ?it/s]"
      ]
     },
     "metadata": {},
     "output_type": "display_data"
    },
    {
     "data": {
      "application/vnd.jupyter.widget-view+json": {
       "model_id": "",
       "version_major": 2,
       "version_minor": 0
      },
      "text/plain": [
       "Validation: 0it [00:00, ?it/s]"
      ]
     },
     "metadata": {},
     "output_type": "display_data"
    },
    {
     "data": {
      "application/vnd.jupyter.widget-view+json": {
       "model_id": "",
       "version_major": 2,
       "version_minor": 0
      },
      "text/plain": [
       "Validation: 0it [00:00, ?it/s]"
      ]
     },
     "metadata": {},
     "output_type": "display_data"
    },
    {
     "data": {
      "application/vnd.jupyter.widget-view+json": {
       "model_id": "",
       "version_major": 2,
       "version_minor": 0
      },
      "text/plain": [
       "Validation: 0it [00:00, ?it/s]"
      ]
     },
     "metadata": {},
     "output_type": "display_data"
    },
    {
     "data": {
      "application/vnd.jupyter.widget-view+json": {
       "model_id": "",
       "version_major": 2,
       "version_minor": 0
      },
      "text/plain": [
       "Validation: 0it [00:00, ?it/s]"
      ]
     },
     "metadata": {},
     "output_type": "display_data"
    },
    {
     "data": {
      "application/vnd.jupyter.widget-view+json": {
       "model_id": "",
       "version_major": 2,
       "version_minor": 0
      },
      "text/plain": [
       "Validation: 0it [00:00, ?it/s]"
      ]
     },
     "metadata": {},
     "output_type": "display_data"
    },
    {
     "data": {
      "application/vnd.jupyter.widget-view+json": {
       "model_id": "",
       "version_major": 2,
       "version_minor": 0
      },
      "text/plain": [
       "Validation: 0it [00:00, ?it/s]"
      ]
     },
     "metadata": {},
     "output_type": "display_data"
    },
    {
     "name": "stderr",
     "output_type": "stream",
     "text": [
      "`Trainer.fit` stopped: `max_epochs=10` reached.\n"
     ]
    }
   ],
   "source": [
    "trainer.fit(m, d)"
   ]
  },
  {
   "cell_type": "code",
   "execution_count": 7,
   "id": "e311f043-937c-422f-90c6-e5d98a44fedc",
   "metadata": {},
   "outputs": [
    {
     "name": "stdout",
     "output_type": "stream",
     "text": [
      "black_headed_night_monkey\n",
      "aotus_nigriceps\n"
     ]
    },
    {
     "data": {
      "image/png": "[encoded data removed]",
      "text/plain": [
       "<PIL.Image.Image image mode=RGB size=64x64>"
      ]
     },
     "execution_count": 7,
     "metadata": {},
     "output_type": "execute_result"
    }
   ],
   "source": [
    "ds = d.train_dataloader()\n",
    "dsi = iter(ds)\n",
    "ds1 = next(dsi)\n",
    "a, b = ds1\n",
    "idx = torch.randint(0, 20, (1,)).item()\n",
    "a = ((a[idx].permute(1,2,0) * d.std + d.mean) * 255).clamp(0, 255).to(torch.uint8).numpy()\n",
    "print(d.metadata['Common Name'][int(b[idx])])\n",
    "print(d.metadata['Latin Name'][int(b[idx])])\n",
    "im.fromarray(a)"
   ]
  }
 ],
 "metadata": {
  "kernelspec": {
   "display_name": "Python [conda env:torch] *",
   "language": "python",
   "name": "conda-env-torch-py"
  },
  "language_info": {
   "codemirror_mode": {
    "name": "ipython",
    "version": 3
   },
   "file_extension": ".py",
   "mimetype": "text/x-python",
   "name": "python",
   "nbconvert_exporter": "python",
   "pygments_lexer": "ipython3",
   "version": "3.9.13"
  }
 },
 "nbformat": 4,
 "nbformat_minor": 5
}
